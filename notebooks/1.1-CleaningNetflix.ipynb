{
 "cells": [
  {
   "attachments": {},
   "cell_type": "markdown",
   "metadata": {},
   "source": [
    "# Cleaning"
   ]
  },
  {
   "cell_type": "code",
   "execution_count": 1,
   "metadata": {},
   "outputs": [],
   "source": [
    "import pandas as pd\n",
    "import numpy as np\n",
    "\n",
    "netflix_df_preprocessed = pd.read_csv('../data/raw/netflix_titles.csv', delimiter=';')"
   ]
  },
  {
   "attachments": {},
   "cell_type": "markdown",
   "metadata": {},
   "source": [
    "### Release Year"
   ]
  },
  {
   "cell_type": "code",
   "execution_count": 2,
   "metadata": {},
   "outputs": [],
   "source": [
    "# Convert non-integer values in release_year to NaN\n",
    "netflix_df_preprocessed['release_year'] = pd.to_numeric(\n",
    "    netflix_df_preprocessed['release_year'], errors='coerce')\n",
    "\n",
    "# Drop rows with NaN values in release_year\n",
    "netflix_df_preprocessed.dropna(subset=['release_year'], inplace=True)\n",
    "\n",
    "# Convert to int64\n",
    "netflix_df_preprocessed['release_year'] = netflix_df_preprocessed['release_year'].astype(\n",
    "    'int64')"
   ]
  },
  {
   "attachments": {},
   "cell_type": "markdown",
   "metadata": {},
   "source": [
    "### Rating"
   ]
  },
  {
   "cell_type": "code",
   "execution_count": 3,
   "metadata": {},
   "outputs": [],
   "source": [
    "# Remove rows that have 'min' as value\n",
    "netflix_df_preprocessed = netflix_df_preprocessed[~netflix_df_preprocessed['rating'].astype(str).str.contains('min')]"
   ]
  },
  {
   "cell_type": "code",
   "execution_count": 4,
   "metadata": {},
   "outputs": [],
   "source": [
    "netflix_df_preprocessed.dropna(subset=['rating'], inplace=True)"
   ]
  },
  {
   "attachments": {},
   "cell_type": "markdown",
   "metadata": {},
   "source": [
    "### Date Added"
   ]
  },
  {
   "cell_type": "code",
   "execution_count": 5,
   "metadata": {},
   "outputs": [],
   "source": [
    "# Extract the mode of 'date_added' by 'release_year'\n",
    "# Loop through unique values of 'release_year' where 'date_added' is null\n",
    "for i in netflix_df_preprocessed[netflix_df_preprocessed['date_added'].isnull()]['release_year'].unique():\n",
    "    # Extract the mode of 'date_added' for the given 'release year'\n",
    "    date = netflix_df_preprocessed[netflix_df_preprocessed['release_year'] == i]['date_added'].mode().values[0]\n",
    "    # Fill null values in 'date_added' with the computed mode for the given 'release year'\n",
    "    netflix_df_preprocessed.loc[netflix_df_preprocessed['release_year'] == i,'date_added'] = netflix_df_preprocessed.loc[netflix_df_preprocessed['release_year']==i,'date_added'].fillna(date)"
   ]
  },
  {
   "cell_type": "code",
   "execution_count": 6,
   "metadata": {},
   "outputs": [],
   "source": [
    "netflix_df_preprocessed['date_added'] = pd.to_datetime(netflix_df_preprocessed['date_added'])"
   ]
  },
  {
   "attachments": {},
   "cell_type": "markdown",
   "metadata": {},
   "source": [
    "### Country"
   ]
  },
  {
   "cell_type": "code",
   "execution_count": 7,
   "metadata": {},
   "outputs": [],
   "source": [
    "# Extract the mode of 'country' by 'director'\n",
    "# Loop through unique values of 'director' where 'country' is null\n",
    "for i in netflix_df_preprocessed[netflix_df_preprocessed['country'].isnull()]['director'].unique():\n",
    "    # Check if the current 'director' value is not null in other rows of 'disney_df_preprocessed'\n",
    "    if i in netflix_df_preprocessed[~netflix_df_preprocessed['country'].isnull()]['director'].unique():\n",
    "        # Compute mode of 'country' for the current 'director'\n",
    "        country = netflix_df_preprocessed[netflix_df_preprocessed['director'] == i]['country'].mode().values[0]\n",
    "        # Fill null values in 'country' with the computed mode for the current 'director'\n",
    "        netflix_df_preprocessed.loc[netflix_df_preprocessed['director'] == i, 'country'] = netflix_df_preprocessed.loc[netflix_df_preprocessed['director'] == i, 'country'].fillna(country)"
   ]
  },
  {
   "cell_type": "code",
   "execution_count": 8,
   "metadata": {},
   "outputs": [],
   "source": [
    "# Extract the mode of 'country' by 'cast'\n",
    "# Loop through unique values of 'cast' where 'country' is null\n",
    "for i in netflix_df_preprocessed[netflix_df_preprocessed['country'].isnull()]['cast'].unique():\n",
    "    # Check if the current 'cast' value is not null in other rows of 'disney_df_preprocessed'\n",
    "    if i in netflix_df_preprocessed[~netflix_df_preprocessed['country'].isnull()]['cast'].unique():\n",
    "        # Compute mode of 'country' for the current 'cast'\n",
    "        imp = netflix_df_preprocessed[netflix_df_preprocessed['cast'] == i]['country'].mode().values[0]\n",
    "        # Fill null values in 'country' with the computed mode for the current 'cast'\n",
    "        netflix_df_preprocessed.loc[netflix_df_preprocessed['cast'] == i,'country'] = netflix_df_preprocessed.loc[netflix_df_preprocessed['cast']==i,'country'].fillna(imp)"
   ]
  },
  {
   "cell_type": "code",
   "execution_count": 9,
   "metadata": {},
   "outputs": [],
   "source": [
    "netflix_df_preprocessed['country'].fillna('Unknown Country', inplace=True)"
   ]
  },
  {
   "attachments": {},
   "cell_type": "markdown",
   "metadata": {},
   "source": [
    "### Cast & director"
   ]
  },
  {
   "cell_type": "code",
   "execution_count": 10,
   "metadata": {},
   "outputs": [],
   "source": [
    "netflix_df_preprocessed['cast'].replace(np.nan, 'Unknown Actors',inplace  = True)\n",
    "netflix_df_preprocessed['director'].replace(np.nan, 'Unknown Director',inplace  = True)\n",
    "netflix_df_preprocessed = netflix_df_preprocessed.rename(columns={'cast': 'actors'})"
   ]
  },
  {
   "attachments": {},
   "cell_type": "markdown",
   "metadata": {},
   "source": [
    "### Duration"
   ]
  },
  {
   "cell_type": "code",
   "execution_count": 11,
   "metadata": {},
   "outputs": [],
   "source": [
    "netflix_df_preprocessed['duration'] = netflix_df_preprocessed['duration'].str.replace(' min','')"
   ]
  },
  {
   "attachments": {},
   "cell_type": "markdown",
   "metadata": {},
   "source": [
    "# Overall"
   ]
  },
  {
   "cell_type": "code",
   "execution_count": 12,
   "metadata": {},
   "outputs": [
    {
     "data": {
      "text/plain": [
       "show_id         0\n",
       "type            0\n",
       "title           0\n",
       "director        0\n",
       "actors          0\n",
       "country         0\n",
       "date_added      0\n",
       "release_year    0\n",
       "rating          0\n",
       "duration        0\n",
       "listed_in       0\n",
       "description     0\n",
       "dtype: int64"
      ]
     },
     "execution_count": 12,
     "metadata": {},
     "output_type": "execute_result"
    }
   ],
   "source": [
    "netflix_df_preprocessed.isna().sum()"
   ]
  },
  {
   "cell_type": "code",
   "execution_count": 13,
   "metadata": {},
   "outputs": [
    {
     "data": {
      "text/plain": [
       "show_id                 object\n",
       "type                    object\n",
       "title                   object\n",
       "director                object\n",
       "actors                  object\n",
       "country                 object\n",
       "date_added      datetime64[ns]\n",
       "release_year             int64\n",
       "rating                  object\n",
       "duration                object\n",
       "listed_in               object\n",
       "description             object\n",
       "dtype: object"
      ]
     },
     "execution_count": 13,
     "metadata": {},
     "output_type": "execute_result"
    }
   ],
   "source": [
    "netflix_df_preprocessed.dtypes"
   ]
  },
  {
   "cell_type": "code",
   "execution_count": 14,
   "metadata": {},
   "outputs": [
    {
     "data": {
      "text/html": [
       "<div>\n",
       "<style scoped>\n",
       "    .dataframe tbody tr th:only-of-type {\n",
       "        vertical-align: middle;\n",
       "    }\n",
       "\n",
       "    .dataframe tbody tr th {\n",
       "        vertical-align: top;\n",
       "    }\n",
       "\n",
       "    .dataframe thead th {\n",
       "        text-align: right;\n",
       "    }\n",
       "</style>\n",
       "<table border=\"1\" class=\"dataframe\">\n",
       "  <thead>\n",
       "    <tr style=\"text-align: right;\">\n",
       "      <th></th>\n",
       "      <th>show_id</th>\n",
       "      <th>type</th>\n",
       "      <th>title</th>\n",
       "      <th>director</th>\n",
       "      <th>actors</th>\n",
       "      <th>country</th>\n",
       "      <th>date_added</th>\n",
       "      <th>release_year</th>\n",
       "      <th>rating</th>\n",
       "      <th>duration</th>\n",
       "      <th>listed_in</th>\n",
       "      <th>description</th>\n",
       "    </tr>\n",
       "  </thead>\n",
       "  <tbody>\n",
       "    <tr>\n",
       "      <th>0</th>\n",
       "      <td>s1</td>\n",
       "      <td>Movie</td>\n",
       "      <td>Dick Johnson Is Dead</td>\n",
       "      <td>Kirsten Johnson</td>\n",
       "      <td>Unknown Actors</td>\n",
       "      <td>United States</td>\n",
       "      <td>2021-09-25</td>\n",
       "      <td>2020</td>\n",
       "      <td>PG-13</td>\n",
       "      <td>90</td>\n",
       "      <td>Documentaries</td>\n",
       "      <td>As her father nears the end of his life, filmm...</td>\n",
       "    </tr>\n",
       "    <tr>\n",
       "      <th>1</th>\n",
       "      <td>s2</td>\n",
       "      <td>TV Show</td>\n",
       "      <td>Blood &amp; Water</td>\n",
       "      <td>Unknown Director</td>\n",
       "      <td>Ama Qamata, Khosi Ngema, Gail Mabalane, Thaban...</td>\n",
       "      <td>South Africa</td>\n",
       "      <td>2021-09-24</td>\n",
       "      <td>2021</td>\n",
       "      <td>TV-MA</td>\n",
       "      <td>2 Seasons</td>\n",
       "      <td>International TV Shows, TV Dramas, TV Mysteries</td>\n",
       "      <td>After crossing paths at a party, a Cape Town t...</td>\n",
       "    </tr>\n",
       "    <tr>\n",
       "      <th>2</th>\n",
       "      <td>s3</td>\n",
       "      <td>TV Show</td>\n",
       "      <td>Ganglands</td>\n",
       "      <td>Julien Leclercq</td>\n",
       "      <td>Sami Bouajila, Tracy Gotoas, Samuel Jouy, Nabi...</td>\n",
       "      <td>France</td>\n",
       "      <td>2021-09-24</td>\n",
       "      <td>2021</td>\n",
       "      <td>TV-MA</td>\n",
       "      <td>1 Season</td>\n",
       "      <td>Crime TV Shows, International TV Shows, TV Act...</td>\n",
       "      <td>To protect his family from a powerful drug lor...</td>\n",
       "    </tr>\n",
       "    <tr>\n",
       "      <th>3</th>\n",
       "      <td>s4</td>\n",
       "      <td>TV Show</td>\n",
       "      <td>Jailbirds New Orleans</td>\n",
       "      <td>Unknown Director</td>\n",
       "      <td>Unknown Actors</td>\n",
       "      <td>Unknown Country</td>\n",
       "      <td>2021-09-24</td>\n",
       "      <td>2021</td>\n",
       "      <td>TV-MA</td>\n",
       "      <td>1 Season</td>\n",
       "      <td>Docuseries, Reality TV</td>\n",
       "      <td>Feuds, flirtations and toilet talk go down amo...</td>\n",
       "    </tr>\n",
       "    <tr>\n",
       "      <th>4</th>\n",
       "      <td>s5</td>\n",
       "      <td>TV Show</td>\n",
       "      <td>Kota Factory</td>\n",
       "      <td>Unknown Director</td>\n",
       "      <td>Mayur More, Jitendra Kumar, Ranjan Raj, Alam K...</td>\n",
       "      <td>India</td>\n",
       "      <td>2021-09-24</td>\n",
       "      <td>2021</td>\n",
       "      <td>TV-MA</td>\n",
       "      <td>2 Seasons</td>\n",
       "      <td>International TV Shows, Romantic TV Shows, TV ...</td>\n",
       "      <td>In a city of coaching centers known to train I...</td>\n",
       "    </tr>\n",
       "  </tbody>\n",
       "</table>\n",
       "</div>"
      ],
      "text/plain": [
       "  show_id     type                  title          director  \\\n",
       "0      s1    Movie   Dick Johnson Is Dead   Kirsten Johnson   \n",
       "1      s2  TV Show          Blood & Water  Unknown Director   \n",
       "2      s3  TV Show              Ganglands   Julien Leclercq   \n",
       "3      s4  TV Show  Jailbirds New Orleans  Unknown Director   \n",
       "4      s5  TV Show           Kota Factory  Unknown Director   \n",
       "\n",
       "                                              actors          country  \\\n",
       "0                                     Unknown Actors    United States   \n",
       "1  Ama Qamata, Khosi Ngema, Gail Mabalane, Thaban...     South Africa   \n",
       "2  Sami Bouajila, Tracy Gotoas, Samuel Jouy, Nabi...           France   \n",
       "3                                     Unknown Actors  Unknown Country   \n",
       "4  Mayur More, Jitendra Kumar, Ranjan Raj, Alam K...            India   \n",
       "\n",
       "  date_added  release_year rating   duration  \\\n",
       "0 2021-09-25          2020  PG-13         90   \n",
       "1 2021-09-24          2021  TV-MA  2 Seasons   \n",
       "2 2021-09-24          2021  TV-MA   1 Season   \n",
       "3 2021-09-24          2021  TV-MA   1 Season   \n",
       "4 2021-09-24          2021  TV-MA  2 Seasons   \n",
       "\n",
       "                                           listed_in  \\\n",
       "0                                      Documentaries   \n",
       "1    International TV Shows, TV Dramas, TV Mysteries   \n",
       "2  Crime TV Shows, International TV Shows, TV Act...   \n",
       "3                             Docuseries, Reality TV   \n",
       "4  International TV Shows, Romantic TV Shows, TV ...   \n",
       "\n",
       "                                         description  \n",
       "0  As her father nears the end of his life, filmm...  \n",
       "1  After crossing paths at a party, a Cape Town t...  \n",
       "2  To protect his family from a powerful drug lor...  \n",
       "3  Feuds, flirtations and toilet talk go down amo...  \n",
       "4  In a city of coaching centers known to train I...  "
      ]
     },
     "execution_count": 14,
     "metadata": {},
     "output_type": "execute_result"
    }
   ],
   "source": [
    "netflix_df_preprocessed.head()"
   ]
  },
  {
   "attachments": {},
   "cell_type": "markdown",
   "metadata": {},
   "source": [
    "# Save to Processed Data"
   ]
  },
  {
   "cell_type": "code",
   "execution_count": 15,
   "metadata": {},
   "outputs": [],
   "source": [
    "netflix_df_preprocessed.to_csv('../data/processed/processed_netflix.csv', header=True, sep=';', index=False)"
   ]
  }
 ],
 "metadata": {
  "kernelspec": {
   "display_name": "rkd",
   "language": "python",
   "name": "python3"
  },
  "language_info": {
   "codemirror_mode": {
    "name": "ipython",
    "version": 3
   },
   "file_extension": ".py",
   "mimetype": "text/x-python",
   "name": "python",
   "nbconvert_exporter": "python",
   "pygments_lexer": "ipython3",
   "version": "3.11.0"
  },
  "orig_nbformat": 4,
  "vscode": {
   "interpreter": {
    "hash": "a0608b7b9008ccc2fb51e5ed0b5cac3c98197ef130302ab0868e942c0996356d"
   }
  }
 },
 "nbformat": 4,
 "nbformat_minor": 2
}
