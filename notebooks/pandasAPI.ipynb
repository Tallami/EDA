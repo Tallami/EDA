{
 "cells": [
  {
   "cell_type": "code",
   "execution_count": 2,
   "metadata": {},
   "outputs": [],
   "source": [
    "import pandas as pd\n",
    "import matplotlib.pyplot as plt\n",
    "\n",
    "try:\n",
    "    del pd.DataFrame.missing\n",
    "except AttributeError:\n",
    "    pass\n",
    "\n",
    "@pd.api.extensions.register_dataframe_accessor(\"missing\")\n",
    "\n",
    "class MissingMethods:\n",
    "\n",
    "    def __init__(self, pandas_obj):\n",
    "        self._obj = pandas_obj\n",
    "\n",
    "    def missing_variable_summary(self) -> pd.DataFrame:\n",
    "        return self._obj.isnull().pipe(\n",
    "            lambda df_1: (\n",
    "                df_1.sum()\n",
    "                .reset_index(name=\"n_missing\")\n",
    "                .rename(columns={\"index\": \"variable\"})\n",
    "                .assign(\n",
    "                    n_cases=len(df_1),\n",
    "                    pct_missing=lambda df_2: df_2.n_missing / df_2.n_cases * 100,\n",
    "                )\n",
    "            )\n",
    "        )\n",
    "\n",
    "    def missing_variable_plot(self, title='Missing'):\n",
    "        df = self._obj.missing.missing_variable_summary().sort_values(\"n_missing\")\n",
    "\n",
    "        plot_range = range(1, len(df.index) + 1)\n",
    "\n",
    "        plt.hlines(y=plot_range, xmin=0, xmax=df.n_missing, color=\"black\")\n",
    "\n",
    "        plt.plot(df.n_missing, plot_range, \"o\", color=\"black\")\n",
    "\n",
    "        plt.yticks(plot_range, df.variable)\n",
    "\n",
    "        plt.grid(axis=\"y\")\n",
    "\n",
    "        plt.title(title)\n",
    "        plt.xlabel(\"Number missing\")\n",
    "        plt.ylabel(\"Variable\")\n",
    "        \n"
   ]
  }
 ],
 "metadata": {
  "kernelspec": {
   "display_name": "rkd",
   "language": "python",
   "name": "python3"
  },
  "language_info": {
   "codemirror_mode": {
    "name": "ipython",
    "version": 3
   },
   "file_extension": ".py",
   "mimetype": "text/x-python",
   "name": "python",
   "nbconvert_exporter": "python",
   "pygments_lexer": "ipython3",
   "version": "3.11.0"
  },
  "orig_nbformat": 4,
  "vscode": {
   "interpreter": {
    "hash": "a0608b7b9008ccc2fb51e5ed0b5cac3c98197ef130302ab0868e942c0996356d"
   }
  }
 },
 "nbformat": 4,
 "nbformat_minor": 2
}
