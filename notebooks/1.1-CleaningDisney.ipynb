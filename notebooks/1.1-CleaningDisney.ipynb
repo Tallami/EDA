{
 "cells": [
  {
   "attachments": {},
   "cell_type": "markdown",
   "metadata": {},
   "source": [
    "# Cleaning"
   ]
  },
  {
   "cell_type": "code",
   "execution_count": null,
   "metadata": {},
   "outputs": [],
   "source": [
    "import pandas as pd\n",
    "import numpy as np\n",
    "\n",
    "disney_df_preprocessed = pd.read_csv('../data/raw/disney_plus_titles.csv')"
   ]
  },
  {
   "attachments": {},
   "cell_type": "markdown",
   "metadata": {},
   "source": [
    "### Date Added"
   ]
  },
  {
   "cell_type": "code",
   "execution_count": null,
   "metadata": {},
   "outputs": [],
   "source": [
    "# Extract the mode of each 'release_year' to fill null values in 'date_added'\n",
    "# Loop through unique values of 'release_year' where 'date_added' is null\n",
    "for i in disney_df_preprocessed[disney_df_preprocessed['date_added'].isnull()]['release_year'].unique():        \n",
    "    # Compute mode of 'date_added' for the current 'release_year'\n",
    "    date = disney_df_preprocessed[disney_df_preprocessed['release_year'] == i]['date_added'].mode().values[0]\n",
    "    # Fill null values in 'date_added' with the computed mode for the current 'release_year'\n",
    "    disney_df_preprocessed.loc[disney_df_preprocessed['release_year'] == i,'date_added'] = disney_df_preprocessed.loc[disney_df_preprocessed['release_year']==i,'date_added'].fillna(date)"
   ]
  },
  {
   "cell_type": "code",
   "execution_count": null,
   "metadata": {},
   "outputs": [],
   "source": [
    "# Convert 'date_added' column to datetime format\n",
    "disney_df_preprocessed['date_added'] = pd.to_datetime(\n",
    "    disney_df_preprocessed['date_added'])"
   ]
  },
  {
   "attachments": {},
   "cell_type": "markdown",
   "metadata": {},
   "source": [
    "### Rating"
   ]
  },
  {
   "cell_type": "code",
   "execution_count": null,
   "metadata": {},
   "outputs": [],
   "source": [
    "disney_df_preprocessed.dropna(subset=['rating'], inplace=True)"
   ]
  },
  {
   "attachments": {},
   "cell_type": "markdown",
   "metadata": {},
   "source": [
    "### Country"
   ]
  },
  {
   "cell_type": "code",
   "execution_count": null,
   "metadata": {},
   "outputs": [],
   "source": [
    "# Extract the mode of 'country' by 'director'\n",
    "# Loop through unique values of 'director' where 'country' is null\n",
    "for i in disney_df_preprocessed[disney_df_preprocessed['country'].isnull()]['director'].unique():    \n",
    "    # Check if the current 'director' value is not null in other rows of 'disney_df_preprocessed'\n",
    "    if i in disney_df_preprocessed[~disney_df_preprocessed['country'].isnull()]['director'].unique():  \n",
    "        # Compute mode of 'country' for the current 'director'\n",
    "        country = disney_df_preprocessed[disney_df_preprocessed['director'] == i]['country'].mode().values[0]\n",
    "        # Fill null values in 'country' with the computed mode for the current 'director'\n",
    "        disney_df_preprocessed.loc[disney_df_preprocessed['director'] == i,'country'] = disney_df_preprocessed.loc[disney_df_preprocessed['director'] == i, 'country'].fillna(country)"
   ]
  },
  {
   "cell_type": "code",
   "execution_count": null,
   "metadata": {},
   "outputs": [],
   "source": [
    "# Extract the mode of 'country' by 'cast'\n",
    "# Loop through unique values of 'cast' where 'country' is null\n",
    "for i in disney_df_preprocessed[disney_df_preprocessed['country'].isnull()]['cast'].unique():\n",
    "    # Check if the current 'cast' value is not null in other rows of 'disney_df_preprocessed'\n",
    "    if i in disney_df_preprocessed[~disney_df_preprocessed['country'].isnull()]['cast'].unique():\n",
    "        # Compute mode of 'country' for the current 'cast'\n",
    "        imp = disney_df_preprocessed[disney_df_preprocessed['cast'] == i]['country'].mode().values[0]\n",
    "        # Fill null values in 'country' with the computed mode for the current 'cast'\n",
    "        disney_df_preprocessed.loc[disney_df_preprocessed['cast'] == i,'country'] = disney_df_preprocessed.loc[disney_df_preprocessed['cast']==i,'country'].fillna(imp)"
   ]
  },
  {
   "cell_type": "code",
   "execution_count": null,
   "metadata": {},
   "outputs": [],
   "source": [
    "disney_df_preprocessed['country'].fillna('Unknown Country', inplace=True)"
   ]
  },
  {
   "attachments": {},
   "cell_type": "markdown",
   "metadata": {},
   "source": [
    "### Cast & director"
   ]
  },
  {
   "cell_type": "code",
   "execution_count": null,
   "metadata": {},
   "outputs": [],
   "source": [
    "disney_df_preprocessed['cast'].replace(np.nan, 'Unknown Actors',inplace  = True)\n",
    "disney_df_preprocessed['director'].replace(np.nan, 'Unknown Director',inplace  = True)\n",
    "disney_df_preprocessed = disney_df_preprocessed.rename(columns={'cast' : 'actors'})"
   ]
  },
  {
   "attachments": {},
   "cell_type": "markdown",
   "metadata": {},
   "source": [
    "### Duration"
   ]
  },
  {
   "cell_type": "code",
   "execution_count": null,
   "metadata": {},
   "outputs": [],
   "source": [
    "disney_df_preprocessed['duration'] = disney_df_preprocessed['duration'].str.replace(' min','')"
   ]
  },
  {
   "attachments": {},
   "cell_type": "markdown",
   "metadata": {},
   "source": [
    "# Overall"
   ]
  },
  {
   "cell_type": "code",
   "execution_count": null,
   "metadata": {},
   "outputs": [],
   "source": [
    "disney_df_preprocessed.isna().sum()"
   ]
  },
  {
   "cell_type": "code",
   "execution_count": null,
   "metadata": {},
   "outputs": [],
   "source": [
    "disney_df_preprocessed.dtypes"
   ]
  },
  {
   "cell_type": "code",
   "execution_count": null,
   "metadata": {},
   "outputs": [],
   "source": [
    "disney_df_preprocessed.head()"
   ]
  },
  {
   "attachments": {},
   "cell_type": "markdown",
   "metadata": {},
   "source": [
    "# Save to Processed Data"
   ]
  },
  {
   "cell_type": "code",
   "execution_count": null,
   "metadata": {},
   "outputs": [],
   "source": [
    "disney_df_preprocessed.to_csv('../data/processed/processed_disney.csv',sep=',', header=True, index=False)"
   ]
  }
 ],
 "metadata": {
  "kernelspec": {
   "display_name": "rkd",
   "language": "python",
   "name": "python3"
  },
  "language_info": {
   "codemirror_mode": {
    "name": "ipython",
    "version": 3
   },
   "file_extension": ".py",
   "mimetype": "text/x-python",
   "name": "python",
   "nbconvert_exporter": "python",
   "pygments_lexer": "ipython3",
   "version": "3.11.0"
  },
  "orig_nbformat": 4,
  "vscode": {
   "interpreter": {
    "hash": "a0608b7b9008ccc2fb51e5ed0b5cac3c98197ef130302ab0868e942c0996356d"
   }
  }
 },
 "nbformat": 4,
 "nbformat_minor": 2
}
