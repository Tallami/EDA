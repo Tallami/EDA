{
 "cells": [
  {
   "attachments": {},
   "cell_type": "markdown",
   "metadata": {},
   "source": [
    "# Cleaning"
   ]
  },
  {
   "cell_type": "code",
   "execution_count": 2,
   "metadata": {},
   "outputs": [],
   "source": [
    "import pandas as pd\n",
    "import numpy as np\n",
    "\n",
    "disney_df_preprocessed = pd.read_csv('../data/raw/disney_plus_titles.csv')"
   ]
  },
  {
   "attachments": {},
   "cell_type": "markdown",
   "metadata": {},
   "source": [
    "### Date Added"
   ]
  },
  {
   "cell_type": "code",
   "execution_count": 3,
   "metadata": {},
   "outputs": [],
   "source": [
    "# Extract the mode of each 'release_year' to fill null values in 'date_added'\n",
    "# Loop through unique values of 'release_year' where 'date_added' is null\n",
    "for i in disney_df_preprocessed[disney_df_preprocessed['date_added'].isnull()]['release_year'].unique():        \n",
    "    # Compute mode of 'date_added' for the current 'release_year'\n",
    "    date = disney_df_preprocessed[disney_df_preprocessed['release_year'] == i]['date_added'].mode().values[0]\n",
    "    # Fill null values in 'date_added' with the computed mode for the current 'release_year'\n",
    "    disney_df_preprocessed.loc[disney_df_preprocessed['release_year'] == i,'date_added'] = disney_df_preprocessed.loc[disney_df_preprocessed['release_year']==i,'date_added'].fillna(date)"
   ]
  },
  {
   "cell_type": "code",
   "execution_count": 4,
   "metadata": {},
   "outputs": [],
   "source": [
    "# Convert 'date_added' column to datetime format\n",
    "disney_df_preprocessed['date_added'] = pd.to_datetime(\n",
    "    disney_df_preprocessed['date_added'])"
   ]
  },
  {
   "attachments": {},
   "cell_type": "markdown",
   "metadata": {},
   "source": [
    "### Rating"
   ]
  },
  {
   "cell_type": "code",
   "execution_count": 5,
   "metadata": {},
   "outputs": [],
   "source": [
    "disney_df_preprocessed.dropna(subset=['rating'], inplace=True)"
   ]
  },
  {
   "attachments": {},
   "cell_type": "markdown",
   "metadata": {},
   "source": [
    "### Country"
   ]
  },
  {
   "cell_type": "code",
   "execution_count": 6,
   "metadata": {},
   "outputs": [],
   "source": [
    "# Extract the mode of 'country' by 'director'\n",
    "# Loop through unique values of 'director' where 'country' is null\n",
    "for i in disney_df_preprocessed[disney_df_preprocessed['country'].isnull()]['director'].unique():    \n",
    "    # Check if the current 'director' value is not null in other rows of 'disney_df_preprocessed'\n",
    "    if i in disney_df_preprocessed[~disney_df_preprocessed['country'].isnull()]['director'].unique():  \n",
    "        # Compute mode of 'country' for the current 'director'\n",
    "        country = disney_df_preprocessed[disney_df_preprocessed['director'] == i]['country'].mode().values[0]\n",
    "        # Fill null values in 'country' with the computed mode for the current 'director'\n",
    "        disney_df_preprocessed.loc[disney_df_preprocessed['director'] == i,'country'] = disney_df_preprocessed.loc[disney_df_preprocessed['director'] == i, 'country'].fillna(country)"
   ]
  },
  {
   "cell_type": "code",
   "execution_count": 7,
   "metadata": {},
   "outputs": [],
   "source": [
    "# Extract the mode of 'country' by 'cast'\n",
    "# Loop through unique values of 'cast' where 'country' is null\n",
    "for i in disney_df_preprocessed[disney_df_preprocessed['country'].isnull()]['cast'].unique():\n",
    "    # Check if the current 'cast' value is not null in other rows of 'disney_df_preprocessed'\n",
    "    if i in disney_df_preprocessed[~disney_df_preprocessed['country'].isnull()]['cast'].unique():\n",
    "        # Compute mode of 'country' for the current 'cast'\n",
    "        imp = disney_df_preprocessed[disney_df_preprocessed['cast'] == i]['country'].mode().values[0]\n",
    "        # Fill null values in 'country' with the computed mode for the current 'cast'\n",
    "        disney_df_preprocessed.loc[disney_df_preprocessed['cast'] == i,'country'] = disney_df_preprocessed.loc[disney_df_preprocessed['cast']==i,'country'].fillna(imp)"
   ]
  },
  {
   "cell_type": "code",
   "execution_count": 8,
   "metadata": {},
   "outputs": [],
   "source": [
    "disney_df_preprocessed['country'].fillna('Unknown Country', inplace=True)"
   ]
  },
  {
   "attachments": {},
   "cell_type": "markdown",
   "metadata": {},
   "source": [
    "### Cast & director"
   ]
  },
  {
   "cell_type": "code",
   "execution_count": 9,
   "metadata": {},
   "outputs": [],
   "source": [
    "disney_df_preprocessed['cast'].replace(np.nan, 'Unknown Actors',inplace  = True)\n",
    "disney_df_preprocessed['director'].replace(np.nan, 'Unknown Director',inplace  = True)\n",
    "disney_df_preprocessed = disney_df_preprocessed.rename(columns={'cast' : 'actors'})"
   ]
  },
  {
   "attachments": {},
   "cell_type": "markdown",
   "metadata": {},
   "source": [
    "### Duration"
   ]
  },
  {
   "cell_type": "code",
   "execution_count": 10,
   "metadata": {},
   "outputs": [],
   "source": [
    "disney_df_preprocessed['duration'] = disney_df_preprocessed['duration'].str.replace(' min','')"
   ]
  },
  {
   "attachments": {},
   "cell_type": "markdown",
   "metadata": {},
   "source": [
    "# Overall"
   ]
  },
  {
   "cell_type": "code",
   "execution_count": 11,
   "metadata": {},
   "outputs": [
    {
     "data": {
      "text/plain": [
       "show_id         0\n",
       "type            0\n",
       "title           0\n",
       "director        0\n",
       "actors          0\n",
       "country         0\n",
       "date_added      0\n",
       "release_year    0\n",
       "rating          0\n",
       "duration        0\n",
       "listed_in       0\n",
       "description     0\n",
       "dtype: int64"
      ]
     },
     "execution_count": 11,
     "metadata": {},
     "output_type": "execute_result"
    }
   ],
   "source": [
    "disney_df_preprocessed.isna().sum()"
   ]
  },
  {
   "cell_type": "code",
   "execution_count": 12,
   "metadata": {},
   "outputs": [
    {
     "data": {
      "text/plain": [
       "show_id                 object\n",
       "type                    object\n",
       "title                   object\n",
       "director                object\n",
       "actors                  object\n",
       "country                 object\n",
       "date_added      datetime64[ns]\n",
       "release_year             int64\n",
       "rating                  object\n",
       "duration                object\n",
       "listed_in               object\n",
       "description             object\n",
       "dtype: object"
      ]
     },
     "execution_count": 12,
     "metadata": {},
     "output_type": "execute_result"
    }
   ],
   "source": [
    "disney_df_preprocessed.dtypes"
   ]
  },
  {
   "cell_type": "code",
   "execution_count": 13,
   "metadata": {},
   "outputs": [
    {
     "data": {
      "text/html": [
       "<div>\n",
       "<style scoped>\n",
       "    .dataframe tbody tr th:only-of-type {\n",
       "        vertical-align: middle;\n",
       "    }\n",
       "\n",
       "    .dataframe tbody tr th {\n",
       "        vertical-align: top;\n",
       "    }\n",
       "\n",
       "    .dataframe thead th {\n",
       "        text-align: right;\n",
       "    }\n",
       "</style>\n",
       "<table border=\"1\" class=\"dataframe\">\n",
       "  <thead>\n",
       "    <tr style=\"text-align: right;\">\n",
       "      <th></th>\n",
       "      <th>show_id</th>\n",
       "      <th>type</th>\n",
       "      <th>title</th>\n",
       "      <th>director</th>\n",
       "      <th>actors</th>\n",
       "      <th>country</th>\n",
       "      <th>date_added</th>\n",
       "      <th>release_year</th>\n",
       "      <th>rating</th>\n",
       "      <th>duration</th>\n",
       "      <th>listed_in</th>\n",
       "      <th>description</th>\n",
       "    </tr>\n",
       "  </thead>\n",
       "  <tbody>\n",
       "    <tr>\n",
       "      <th>0</th>\n",
       "      <td>s1</td>\n",
       "      <td>Movie</td>\n",
       "      <td>Duck the Halls: A Mickey Mouse Christmas Special</td>\n",
       "      <td>Alonso Ramirez Ramos, Dave Wasson</td>\n",
       "      <td>Chris Diamantopoulos, Tony Anselmo, Tress MacN...</td>\n",
       "      <td>Unknown Country</td>\n",
       "      <td>2021-11-26</td>\n",
       "      <td>2016</td>\n",
       "      <td>TV-G</td>\n",
       "      <td>23</td>\n",
       "      <td>Animation, Family</td>\n",
       "      <td>Join Mickey and the gang as they duck the halls!</td>\n",
       "    </tr>\n",
       "    <tr>\n",
       "      <th>1</th>\n",
       "      <td>s2</td>\n",
       "      <td>Movie</td>\n",
       "      <td>Ernest Saves Christmas</td>\n",
       "      <td>John Cherry</td>\n",
       "      <td>Jim Varney, Noelle Parker, Douglas Seale</td>\n",
       "      <td>Unknown Country</td>\n",
       "      <td>2021-11-26</td>\n",
       "      <td>1988</td>\n",
       "      <td>PG</td>\n",
       "      <td>91</td>\n",
       "      <td>Comedy</td>\n",
       "      <td>Santa Claus passes his magic bag to a new St. ...</td>\n",
       "    </tr>\n",
       "    <tr>\n",
       "      <th>2</th>\n",
       "      <td>s3</td>\n",
       "      <td>Movie</td>\n",
       "      <td>Ice Age: A Mammoth Christmas</td>\n",
       "      <td>Karen Disher</td>\n",
       "      <td>Raymond Albert Romano, John Leguizamo, Denis L...</td>\n",
       "      <td>United States</td>\n",
       "      <td>2021-11-26</td>\n",
       "      <td>2011</td>\n",
       "      <td>TV-G</td>\n",
       "      <td>23</td>\n",
       "      <td>Animation, Comedy, Family</td>\n",
       "      <td>Sid the Sloth is on Santa's naughty list.</td>\n",
       "    </tr>\n",
       "    <tr>\n",
       "      <th>3</th>\n",
       "      <td>s4</td>\n",
       "      <td>Movie</td>\n",
       "      <td>The Queen Family Singalong</td>\n",
       "      <td>Hamish Hamilton</td>\n",
       "      <td>Darren Criss, Adam Lambert, Derek Hough, Alexa...</td>\n",
       "      <td>United States</td>\n",
       "      <td>2021-11-26</td>\n",
       "      <td>2021</td>\n",
       "      <td>TV-PG</td>\n",
       "      <td>41</td>\n",
       "      <td>Musical</td>\n",
       "      <td>This is real life, not just fantasy!</td>\n",
       "    </tr>\n",
       "    <tr>\n",
       "      <th>5</th>\n",
       "      <td>s6</td>\n",
       "      <td>Movie</td>\n",
       "      <td>Becoming Cousteau</td>\n",
       "      <td>Liz Garbus</td>\n",
       "      <td>Jacques Yves Cousteau, Vincent Cassel</td>\n",
       "      <td>United States</td>\n",
       "      <td>2021-11-24</td>\n",
       "      <td>2021</td>\n",
       "      <td>PG-13</td>\n",
       "      <td>94</td>\n",
       "      <td>Biographical, Documentary</td>\n",
       "      <td>An inside look at the legendary life of advent...</td>\n",
       "    </tr>\n",
       "  </tbody>\n",
       "</table>\n",
       "</div>"
      ],
      "text/plain": [
       "  show_id   type                                             title  \\\n",
       "0      s1  Movie  Duck the Halls: A Mickey Mouse Christmas Special   \n",
       "1      s2  Movie                            Ernest Saves Christmas   \n",
       "2      s3  Movie                      Ice Age: A Mammoth Christmas   \n",
       "3      s4  Movie                        The Queen Family Singalong   \n",
       "5      s6  Movie                                 Becoming Cousteau   \n",
       "\n",
       "                            director  \\\n",
       "0  Alonso Ramirez Ramos, Dave Wasson   \n",
       "1                        John Cherry   \n",
       "2                       Karen Disher   \n",
       "3                    Hamish Hamilton   \n",
       "5                         Liz Garbus   \n",
       "\n",
       "                                              actors          country  \\\n",
       "0  Chris Diamantopoulos, Tony Anselmo, Tress MacN...  Unknown Country   \n",
       "1           Jim Varney, Noelle Parker, Douglas Seale  Unknown Country   \n",
       "2  Raymond Albert Romano, John Leguizamo, Denis L...    United States   \n",
       "3  Darren Criss, Adam Lambert, Derek Hough, Alexa...    United States   \n",
       "5              Jacques Yves Cousteau, Vincent Cassel    United States   \n",
       "\n",
       "  date_added  release_year rating duration                  listed_in  \\\n",
       "0 2021-11-26          2016   TV-G       23          Animation, Family   \n",
       "1 2021-11-26          1988     PG       91                     Comedy   \n",
       "2 2021-11-26          2011   TV-G       23  Animation, Comedy, Family   \n",
       "3 2021-11-26          2021  TV-PG       41                    Musical   \n",
       "5 2021-11-24          2021  PG-13       94  Biographical, Documentary   \n",
       "\n",
       "                                         description  \n",
       "0   Join Mickey and the gang as they duck the halls!  \n",
       "1  Santa Claus passes his magic bag to a new St. ...  \n",
       "2          Sid the Sloth is on Santa's naughty list.  \n",
       "3               This is real life, not just fantasy!  \n",
       "5  An inside look at the legendary life of advent...  "
      ]
     },
     "execution_count": 13,
     "metadata": {},
     "output_type": "execute_result"
    }
   ],
   "source": [
    "disney_df_preprocessed.head()"
   ]
  },
  {
   "attachments": {},
   "cell_type": "markdown",
   "metadata": {},
   "source": [
    "# Save to Processed Data"
   ]
  },
  {
   "cell_type": "code",
   "execution_count": 14,
   "metadata": {},
   "outputs": [],
   "source": [
    "disney_df_preprocessed.to_csv('../data/processed/processed_disney.csv',sep=',', header=True, index=False)"
   ]
  }
 ],
 "metadata": {
  "kernelspec": {
   "display_name": "rkd",
   "language": "python",
   "name": "python3"
  },
  "language_info": {
   "codemirror_mode": {
    "name": "ipython",
    "version": 3
   },
   "file_extension": ".py",
   "mimetype": "text/x-python",
   "name": "python",
   "nbconvert_exporter": "python",
   "pygments_lexer": "ipython3",
   "version": "3.11.0"
  },
  "orig_nbformat": 4,
  "vscode": {
   "interpreter": {
    "hash": "a0608b7b9008ccc2fb51e5ed0b5cac3c98197ef130302ab0868e942c0996356d"
   }
  }
 },
 "nbformat": 4,
 "nbformat_minor": 2
}
